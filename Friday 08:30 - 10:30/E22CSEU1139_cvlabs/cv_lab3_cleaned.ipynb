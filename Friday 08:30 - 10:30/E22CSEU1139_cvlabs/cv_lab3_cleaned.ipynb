{
 "cells": [
  {
   "cell_type": "code",
   "execution_count": null,
   "metadata": {
    "id": "_qPJ7Gcyf3Cu"
   },
   "outputs": [],
   "source": [
    "import cv2\n",
    "import numpy as np\n",
    "from google.colab.patches import cv2_imshow  # For displaying images in Colab"
   ]
  },
  {
   "cell_type": "code",
   "execution_count": null,
   "metadata": {
    "colab": {
     "background_save": true
    },
    "collapsed": true,
    "id": "w8D4I2-CgM3V",
    "outputId": "b045c17d-dfea-4803-f298-65f99e4b8e55"
   },
   "outputs": [],
   "source": [
    "# Replace 'your_image.jpg' with the actual image file name\n",
    "image = cv2.imread('/content/test img.jpg')\n",
    "# to show image\n",
    "cv2_imshow(image)"
   ]
  },
  {
   "cell_type": "code",
   "execution_count": null,
   "metadata": {
    "colab": {
     "background_save": true
    },
    "id": "IAIK-TXFhxx0",
    "outputId": "c136bbba-e82f-4570-b873-6d0d0372463d"
   },
   "outputs": [],
   "source": [
    "height, width, channels = image.shape\n",
    "print(f\"Image Size: {width}x{height}\")\n",
    "print(f\"Number of Channels: {channels}\")"
   ]
  },
  {
   "cell_type": "code",
   "execution_count": null,
   "metadata": {
    "colab": {
     "base_uri": "https://localhost:8080/"
    },
    "id": "3Bq4GKLuiAA7",
    "outputId": "941b3eae-0f56-44ca-8f0c-880834488e35"
   },
   "outputs": [],
   "source": [
    "total_pixels = height * width\n",
    "print(f\"Total Pixels: {total_pixels}\")"
   ]
  },
  {
   "cell_type": "code",
   "execution_count": null,
   "metadata": {
    "colab": {
     "base_uri": "https://localhost:8080/",
     "height": 1000
    },
    "collapsed": true,
    "id": "YL0Uv_MKiGKb",
    "outputId": "77981cfa-b94f-4bf8-807c-4f946f9d89a5"
   },
   "outputs": [],
   "source": [
    "gray_image = cv2.cvtColor(image, cv2.COLOR_BGR2GRAY)\n",
    "cv2_imshow(gray_image)"
   ]
  },
  {
   "cell_type": "code",
   "execution_count": null,
   "metadata": {
    "colab": {
     "base_uri": "https://localhost:8080/",
     "height": 1000
    },
    "id": "piZ6_g8akEJC",
    "outputId": "ea22cd33-9aa3-4c84-c4dc-e1c37af46ce3"
   },
   "outputs": [],
   "source": [
    "import cv2\n",
    "import numpy as np\n",
    "import matplotlib.pyplot as plt\n",
    "\n",
    "def display_image(title, image, cmap=None):\n",
    "    plt.figure(figsize=(6,6))\n",
    "    plt.imshow(image, cmap=cmap)\n",
    "    plt.title(title)\n",
    "    plt.axis(\"off\")\n",
    "    plt.show()\n",
    "\n",
    "# Task 1: Image Manipulation\n",
    "image_path = '/content/test img.jpg'  # Replace with your image path\n",
    "image = cv2.imread(image_path)\n",
    "\n",
    "# Check if image is loaded correctly\n",
    "if image is None:\n",
    "    print(f\"Error: Could not load image at path '{image_path}'. Check if the file exists and the path is correct.\")\n",
    "else:\n",
    "    # Convert BGR to RGB\n",
    "    image_rgb = cv2.cvtColor(image, cv2.COLOR_BGR2RGB)\n",
    "    display_image(\"Original RGB Image\", image_rgb)\n",
    "    cv2.imwrite(\"image_rgb.jpg\", cv2.cvtColor(image_rgb, cv2.COLOR_RGB2BGR))\n",
    "\n",
    "    # Extract Image Size\n",
    "    height, width, channels = image.shape\n",
    "    print(f\"Image Size: {width}x{height}, Channels: {channels}\")\n",
    "\n",
    "    # Calculate Total Pixels\n",
    "    total_pixels = height * width\n",
    "    print(f\"Total Pixels: {total_pixels}\")\n",
    "\n",
    "    # Convert RGB to Grayscale\n",
    "    gray_image = cv2.cvtColor(image_rgb, cv2.COLOR_RGB2GRAY)\n",
    "    display_image(\"Grayscale Image\", gray_image, cmap='gray')\n",
    "    cv2.imwrite(\"image_gray.jpg\", gray_image)\n",
    "\n",
    "    # Convert to Binary Image\n",
    "    threshold_value = 127\n",
    "    _, binary_image = cv2.threshold(gray_image, threshold_value, 255, cv2.THRESH_BINARY)\n",
    "    display_image(\"Binary Image\", binary_image, cmap='gray')\n",
    "    cv2.imwrite(\"image_binary.jpg\", binary_image)\n",
    "\n",
    "    # Count Black Pixels\n",
    "    black_pixel_count = np.sum(binary_image == 0)\n",
    "    print(f\"Black Pixel Count: {black_pixel_count}\")\n",
    "    print(f\"Size of Image: {width}x{height}\")"
   ]
  },
  {
   "cell_type": "code",
   "execution_count": null,
   "metadata": {
    "colab": {
     "base_uri": "https://localhost:8080/",
     "height": 1000
    },
    "id": "RtkRuNMOkkrr",
    "outputId": "1b19dfe1-b0ee-434a-b42d-044fded53c17"
   },
   "outputs": [],
   "source": [
    "from skimage import filters\n",
    "from skimage.filters import prewitt\n",
    "from skimage.filters import roberts\n",
    "\n",
    "# Task 2: Edge Detection\n",
    "# Sobel Operator\n",
    "sobelx = cv2.Sobel(gray_image, cv2.CV_64F, 1, 0, ksize=3)\n",
    "sobely = cv2.Sobel(gray_image, cv2.CV_64F, 0, 1, ksize=3)\n",
    "sobel_combined = cv2.magnitude(sobelx, sobely)\n",
    "display_image(\"Sobel Edge Detection\", sobel_combined, cmap='gray')\n",
    "\n",
    "# Prewitt Operator\n",
    "prewitt_x = prewitt(gray_image)\n",
    "prewitt_y = prewitt(gray_image, axis=0)\n",
    "prewitt_combined = np.sqrt(prewitt_x*2 + prewitt_y*2)\n",
    "display_image(\"Prewitt Edge Detection\", prewitt_combined, cmap='gray')\n",
    "\n",
    "# Roberts Cross Operator\n",
    "roberts_edges = roberts(gray_image)\n",
    "display_image(\"Roberts Edge Detection\", roberts_edges, cmap='gray')\n",
    "\n",
    "# Canny Edge Detector\n",
    "canny_edges = cv2.Canny(gray_image, 100, 200)\n",
    "display_image(\"Canny Edge Detection\", canny_edges, cmap='gray')\n",
    "\n",
    "# Task 2: Image Segmentation\n",
    "# Global Thresholding\n",
    "_, global_thresh = cv2.threshold(gray_image, 127, 255, cv2.THRESH_BINARY)\n",
    "display_image(\"Global Thresholding\", global_thresh, cmap='gray')\n",
    "\n",
    "# Adaptive Thresholding\n",
    "adaptive_thresh = cv2.adaptiveThreshold(gray_image, 255, cv2.ADAPTIVE_THRESH_MEAN_C, cv2.THRESH_BINARY, 11, 2)\n",
    "display_image(\"Adaptive Thresholding\", adaptive_thresh, cmap='gray')\n",
    "\n",
    "# Canny for Segmentation\n",
    "canny_segment = cv2.Canny(gray_image, 100, 200)\n",
    "display_image(\"Canny Edge Segmentation\", canny_segment, cmap='gray')\n",
    "\n",
    "# Watershed Algorithm\n",
    "gray_blurred = cv2.GaussianBlur(gray_image, (5,5), 0)\n",
    "_, binary_thresh = cv2.threshold(gray_blurred, 0, 255, cv2.THRESH_BINARY_INV + cv2.THRESH_OTSU)\n",
    "\n",
    "# Marker Labelling\n",
    "kernel = np.ones((3,3), np.uint8)\n",
    "opening = cv2.morphologyEx(binary_thresh, cv2.MORPH_OPEN, kernel, iterations=2)\n",
    "sure_bg = cv2.dilate(opening, kernel, iterations=3)\n",
    "dist_transform = cv2.distanceTransform(opening, cv2.DIST_L2, 5)\n",
    "_, sure_fg = cv2.threshold(dist_transform, 0.7 * dist_transform.max(), 255, 0)\n",
    "\n",
    "sure_fg = np.uint8(sure_fg)\n",
    "unknown = cv2.subtract(sure_bg, sure_fg)\n",
    "_, markers = cv2.connectedComponents(sure_fg)\n",
    "markers = markers + 1\n",
    "markers[unknown == 255] = 0\n",
    "markers = cv2.watershed(image_rgb, markers)\n",
    "image_rgb[markers == -1] = [255, 0, 0]  # Mark boundaries in red\n",
    "display_image(\"Watershed Segmentation\", image_rgb)"
   ]
  }
 ],
 "metadata": {
  "colab": {
   "provenance": []
  },
  "kernelspec": {
   "display_name": "Python 3",
   "name": "python3"
  },
  "language_info": {
   "name": "python"
  }
 },
 "nbformat": 4,
 "nbformat_minor": 0
}
