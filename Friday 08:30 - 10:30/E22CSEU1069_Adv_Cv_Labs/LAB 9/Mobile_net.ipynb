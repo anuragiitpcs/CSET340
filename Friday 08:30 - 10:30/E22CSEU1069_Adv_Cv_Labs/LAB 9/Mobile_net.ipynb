{
 "cells": [
  {
   "cell_type": "code",
   "execution_count": 1,
   "id": "278647ed",
   "metadata": {
    "_cell_guid": "b1076dfc-b9ad-4769-8c92-a6c4dae69d19",
    "_uuid": "8f2839f25d086af736a60e9eeb907d3b93b6e0e5",
    "execution": {
     "iopub.execute_input": "2023-04-10T18:31:23.981428Z",
     "iopub.status.busy": "2023-04-10T18:31:23.980897Z",
     "iopub.status.idle": "2023-04-10T18:31:24.036028Z",
     "shell.execute_reply": "2023-04-10T18:31:24.034473Z"
    },
    "papermill": {
     "duration": 0.065298,
     "end_time": "2023-04-10T18:31:24.039034",
     "exception": false,
     "start_time": "2023-04-10T18:31:23.973736",
     "status": "completed"
    },
    "tags": []
   },
   "outputs": [
    {
     "data": {
      "text/html": [
       "<div>\n",
       "<style scoped>\n",
       "    .dataframe tbody tr th:only-of-type {\n",
       "        vertical-align: middle;\n",
       "    }\n",
       "\n",
       "    .dataframe tbody tr th {\n",
       "        vertical-align: top;\n",
       "    }\n",
       "\n",
       "    .dataframe thead th {\n",
       "        text-align: right;\n",
       "    }\n",
       "</style>\n",
       "<table border=\"1\" class=\"dataframe\">\n",
       "  <thead>\n",
       "    <tr style=\"text-align: right;\">\n",
       "      <th></th>\n",
       "      <th>filename</th>\n",
       "      <th>label</th>\n",
       "    </tr>\n",
       "  </thead>\n",
       "  <tbody>\n",
       "    <tr>\n",
       "      <th>0</th>\n",
       "      <td>/kaggle/input/dogs-breed-dataset/dog_v1/poodle...</td>\n",
       "      <td>poodle</td>\n",
       "    </tr>\n",
       "    <tr>\n",
       "      <th>1</th>\n",
       "      <td>/kaggle/input/dogs-breed-dataset/dog_v1/french...</td>\n",
       "      <td>french_bulldog</td>\n",
       "    </tr>\n",
       "    <tr>\n",
       "      <th>2</th>\n",
       "      <td>/kaggle/input/dogs-breed-dataset/dog_v1/french...</td>\n",
       "      <td>french_bulldog</td>\n",
       "    </tr>\n",
       "    <tr>\n",
       "      <th>3</th>\n",
       "      <td>/kaggle/input/dogs-breed-dataset/dog_v1/french...</td>\n",
       "      <td>french_bulldog</td>\n",
       "    </tr>\n",
       "    <tr>\n",
       "      <th>4</th>\n",
       "      <td>/kaggle/input/dogs-breed-dataset/dog_v1/french...</td>\n",
       "      <td>french_bulldog</td>\n",
       "    </tr>\n",
       "  </tbody>\n",
       "</table>\n",
       "</div>"
      ],
      "text/plain": [
       "                                            filename           label\n",
       "0  /kaggle/input/dogs-breed-dataset/dog_v1/poodle...          poodle\n",
       "1  /kaggle/input/dogs-breed-dataset/dog_v1/french...  french_bulldog\n",
       "2  /kaggle/input/dogs-breed-dataset/dog_v1/french...  french_bulldog\n",
       "3  /kaggle/input/dogs-breed-dataset/dog_v1/french...  french_bulldog\n",
       "4  /kaggle/input/dogs-breed-dataset/dog_v1/french...  french_bulldog"
      ]
     },
     "execution_count": 1,
     "metadata": {},
     "output_type": "execute_result"
    }
   ],
   "source": [
    "import pandas as pd\n",
    "train=pd.read_csv('/kaggle/input/dogs-breed-dataset/train.csv')\n",
    "train.head()"
   ]
  },
  {
   "cell_type": "code",
   "execution_count": 2,
   "id": "70ff6b3b",
   "metadata": {
    "execution": {
     "iopub.execute_input": "2023-04-10T18:31:24.050217Z",
     "iopub.status.busy": "2023-04-10T18:31:24.049761Z",
     "iopub.status.idle": "2023-04-10T18:31:24.066026Z",
     "shell.execute_reply": "2023-04-10T18:31:24.064590Z"
    },
    "papermill": {
     "duration": 0.025429,
     "end_time": "2023-04-10T18:31:24.068892",
     "exception": false,
     "start_time": "2023-04-10T18:31:24.043463",
     "status": "completed"
    },
    "tags": []
   },
   "outputs": [
    {
     "data": {
      "text/html": [
       "<div>\n",
       "<style scoped>\n",
       "    .dataframe tbody tr th:only-of-type {\n",
       "        vertical-align: middle;\n",
       "    }\n",
       "\n",
       "    .dataframe tbody tr th {\n",
       "        vertical-align: top;\n",
       "    }\n",
       "\n",
       "    .dataframe thead th {\n",
       "        text-align: right;\n",
       "    }\n",
       "</style>\n",
       "<table border=\"1\" class=\"dataframe\">\n",
       "  <thead>\n",
       "    <tr style=\"text-align: right;\">\n",
       "      <th></th>\n",
       "      <th>filename</th>\n",
       "      <th>label</th>\n",
       "    </tr>\n",
       "  </thead>\n",
       "  <tbody>\n",
       "    <tr>\n",
       "      <th>0</th>\n",
       "      <td>/kaggle/input/dogs-breed-dataset/dog_v1/poodle...</td>\n",
       "      <td>poodle</td>\n",
       "    </tr>\n",
       "    <tr>\n",
       "      <th>1</th>\n",
       "      <td>/kaggle/input/dogs-breed-dataset/dog_v1/yorksh...</td>\n",
       "      <td>yorkshire_terrier</td>\n",
       "    </tr>\n",
       "    <tr>\n",
       "      <th>2</th>\n",
       "      <td>/kaggle/input/dogs-breed-dataset/dog_v1/yorksh...</td>\n",
       "      <td>yorkshire_terrier</td>\n",
       "    </tr>\n",
       "    <tr>\n",
       "      <th>3</th>\n",
       "      <td>/kaggle/input/dogs-breed-dataset/dog_v1/yorksh...</td>\n",
       "      <td>yorkshire_terrier</td>\n",
       "    </tr>\n",
       "    <tr>\n",
       "      <th>4</th>\n",
       "      <td>/kaggle/input/dogs-breed-dataset/dog_v1/golden...</td>\n",
       "      <td>golden_retriever</td>\n",
       "    </tr>\n",
       "  </tbody>\n",
       "</table>\n",
       "</div>"
      ],
      "text/plain": [
       "                                            filename              label\n",
       "0  /kaggle/input/dogs-breed-dataset/dog_v1/poodle...             poodle\n",
       "1  /kaggle/input/dogs-breed-dataset/dog_v1/yorksh...  yorkshire_terrier\n",
       "2  /kaggle/input/dogs-breed-dataset/dog_v1/yorksh...  yorkshire_terrier\n",
       "3  /kaggle/input/dogs-breed-dataset/dog_v1/yorksh...  yorkshire_terrier\n",
       "4  /kaggle/input/dogs-breed-dataset/dog_v1/golden...   golden_retriever"
      ]
     },
     "execution_count": 2,
     "metadata": {},
     "output_type": "execute_result"
    }
   ],
   "source": [
    "test=pd.read_csv('/kaggle/input/dogs-breed-dataset/test.csv')\n",
    "test.head()"
   ]
  },
  {
   "cell_type": "code",
   "execution_count": 3,
   "id": "f522d4dc",
   "metadata": {
    "execution": {
     "iopub.execute_input": "2023-04-10T18:31:24.080164Z",
     "iopub.status.busy": "2023-04-10T18:31:24.079473Z",
     "iopub.status.idle": "2023-04-10T18:31:24.096414Z",
     "shell.execute_reply": "2023-04-10T18:31:24.095116Z"
    },
    "papermill": {
     "duration": 0.025351,
     "end_time": "2023-04-10T18:31:24.099113",
     "exception": false,
     "start_time": "2023-04-10T18:31:24.073762",
     "status": "completed"
    },
    "tags": []
   },
   "outputs": [
    {
     "data": {
      "text/html": [
       "<div>\n",
       "<style scoped>\n",
       "    .dataframe tbody tr th:only-of-type {\n",
       "        vertical-align: middle;\n",
       "    }\n",
       "\n",
       "    .dataframe tbody tr th {\n",
       "        vertical-align: top;\n",
       "    }\n",
       "\n",
       "    .dataframe thead th {\n",
       "        text-align: right;\n",
       "    }\n",
       "</style>\n",
       "<table border=\"1\" class=\"dataframe\">\n",
       "  <thead>\n",
       "    <tr style=\"text-align: right;\">\n",
       "      <th></th>\n",
       "      <th>filename</th>\n",
       "      <th>label</th>\n",
       "    </tr>\n",
       "  </thead>\n",
       "  <tbody>\n",
       "    <tr>\n",
       "      <th>0</th>\n",
       "      <td>/kaggle/input/dogs-breed-dataset/train/poodle/...</td>\n",
       "      <td>poodle</td>\n",
       "    </tr>\n",
       "    <tr>\n",
       "      <th>1</th>\n",
       "      <td>/kaggle/input/dogs-breed-dataset/train/french_...</td>\n",
       "      <td>french_bulldog</td>\n",
       "    </tr>\n",
       "    <tr>\n",
       "      <th>2</th>\n",
       "      <td>/kaggle/input/dogs-breed-dataset/train/french_...</td>\n",
       "      <td>french_bulldog</td>\n",
       "    </tr>\n",
       "    <tr>\n",
       "      <th>3</th>\n",
       "      <td>/kaggle/input/dogs-breed-dataset/train/french_...</td>\n",
       "      <td>french_bulldog</td>\n",
       "    </tr>\n",
       "    <tr>\n",
       "      <th>4</th>\n",
       "      <td>/kaggle/input/dogs-breed-dataset/train/french_...</td>\n",
       "      <td>french_bulldog</td>\n",
       "    </tr>\n",
       "  </tbody>\n",
       "</table>\n",
       "</div>"
      ],
      "text/plain": [
       "                                            filename           label\n",
       "0  /kaggle/input/dogs-breed-dataset/train/poodle/...          poodle\n",
       "1  /kaggle/input/dogs-breed-dataset/train/french_...  french_bulldog\n",
       "2  /kaggle/input/dogs-breed-dataset/train/french_...  french_bulldog\n",
       "3  /kaggle/input/dogs-breed-dataset/train/french_...  french_bulldog\n",
       "4  /kaggle/input/dogs-breed-dataset/train/french_...  french_bulldog"
      ]
     },
     "execution_count": 3,
     "metadata": {},
     "output_type": "execute_result"
    }
   ],
   "source": [
    "train['filename']=train['filename'].str.replace('/kaggle/input/dogs-breed-dataset/dog_v1/','/kaggle/input/dogs-breed-dataset/train/')\n",
    "train.head()"
   ]
  },
  {
   "cell_type": "code",
   "execution_count": 4,
   "id": "e2a5ee8a",
   "metadata": {
    "execution": {
     "iopub.execute_input": "2023-04-10T18:31:24.110302Z",
     "iopub.status.busy": "2023-04-10T18:31:24.109881Z",
     "iopub.status.idle": "2023-04-10T18:31:24.123587Z",
     "shell.execute_reply": "2023-04-10T18:31:24.121881Z"
    },
    "papermill": {
     "duration": 0.022753,
     "end_time": "2023-04-10T18:31:24.126417",
     "exception": false,
     "start_time": "2023-04-10T18:31:24.103664",
     "status": "completed"
    },
    "tags": []
   },
   "outputs": [
    {
     "data": {
      "text/html": [
       "<div>\n",
       "<style scoped>\n",
       "    .dataframe tbody tr th:only-of-type {\n",
       "        vertical-align: middle;\n",
       "    }\n",
       "\n",
       "    .dataframe tbody tr th {\n",
       "        vertical-align: top;\n",
       "    }\n",
       "\n",
       "    .dataframe thead th {\n",
       "        text-align: right;\n",
       "    }\n",
       "</style>\n",
       "<table border=\"1\" class=\"dataframe\">\n",
       "  <thead>\n",
       "    <tr style=\"text-align: right;\">\n",
       "      <th></th>\n",
       "      <th>filename</th>\n",
       "      <th>label</th>\n",
       "    </tr>\n",
       "  </thead>\n",
       "  <tbody>\n",
       "    <tr>\n",
       "      <th>0</th>\n",
       "      <td>/kaggle/input/dogs-breed-dataset/test/poodle/b...</td>\n",
       "      <td>poodle</td>\n",
       "    </tr>\n",
       "    <tr>\n",
       "      <th>1</th>\n",
       "      <td>/kaggle/input/dogs-breed-dataset/test/yorkshir...</td>\n",
       "      <td>yorkshire_terrier</td>\n",
       "    </tr>\n",
       "    <tr>\n",
       "      <th>2</th>\n",
       "      <td>/kaggle/input/dogs-breed-dataset/test/yorkshir...</td>\n",
       "      <td>yorkshire_terrier</td>\n",
       "    </tr>\n",
       "    <tr>\n",
       "      <th>3</th>\n",
       "      <td>/kaggle/input/dogs-breed-dataset/test/yorkshir...</td>\n",
       "      <td>yorkshire_terrier</td>\n",
       "    </tr>\n",
       "    <tr>\n",
       "      <th>4</th>\n",
       "      <td>/kaggle/input/dogs-breed-dataset/test/golden_r...</td>\n",
       "      <td>golden_retriever</td>\n",
       "    </tr>\n",
       "  </tbody>\n",
       "</table>\n",
       "</div>"
      ],
      "text/plain": [
       "                                            filename              label\n",
       "0  /kaggle/input/dogs-breed-dataset/test/poodle/b...             poodle\n",
       "1  /kaggle/input/dogs-breed-dataset/test/yorkshir...  yorkshire_terrier\n",
       "2  /kaggle/input/dogs-breed-dataset/test/yorkshir...  yorkshire_terrier\n",
       "3  /kaggle/input/dogs-breed-dataset/test/yorkshir...  yorkshire_terrier\n",
       "4  /kaggle/input/dogs-breed-dataset/test/golden_r...   golden_retriever"
      ]
     },
     "execution_count": 4,
     "metadata": {},
     "output_type": "execute_result"
    }
   ],
   "source": [
    "test['filename']=test['filename'].str.replace('/kaggle/input/dogs-breed-dataset/dog_v1/','/kaggle/input/dogs-breed-dataset/test/')\n",
    "test.head()"
   ]
  },
  {
   "cell_type": "code",
   "execution_count": 5,
   "id": "ddb22d2d",
   "metadata": {
    "_kg_hide-output": true,
    "execution": {
     "iopub.execute_input": "2023-04-10T18:31:24.138867Z",
     "iopub.status.busy": "2023-04-10T18:31:24.138450Z",
     "iopub.status.idle": "2023-04-10T18:33:00.150885Z",
     "shell.execute_reply": "2023-04-10T18:33:00.149674Z"
    },
    "papermill": {
     "duration": 96.022813,
     "end_time": "2023-04-10T18:33:00.154582",
     "exception": false,
     "start_time": "2023-04-10T18:31:24.131769",
     "status": "completed"
    },
    "tags": []
   },
   "outputs": [
    {
     "name": "stdout",
     "output_type": "stream",
     "text": [
      "Collecting lobe[all]\r\n",
      "  Downloading lobe-0.6.2-py3-none-any.whl (22 kB)\r\n",
      "Requirement already satisfied: requests in /opt/conda/lib/python3.7/site-packages (from lobe[all]) (2.28.2)\r\n",
      "Requirement already satisfied: matplotlib~=3.5.1 in /opt/conda/lib/python3.7/site-packages (from lobe[all]) (3.5.3)\r\n",
      "Collecting pillow~=9.0.1\r\n",
      "  Downloading Pillow-9.0.1-cp37-cp37m-manylinux_2_17_x86_64.manylinux2014_x86_64.whl (4.3 MB)\r\n",
      "\u001b[2K     \u001b[90m━━━━━━━━━━━━━━━━━━━━━━━━━━━━━━━━━━━━━━━━\u001b[0m \u001b[32m4.3/4.3 MB\u001b[0m \u001b[31m38.1 MB/s\u001b[0m eta \u001b[36m0:00:00\u001b[0m\r\n",
      "\u001b[?25hCollecting tensorflow~=2.8.0\r\n",
      "  Downloading tensorflow-2.8.4-cp37-cp37m-manylinux2010_x86_64.whl (497.9 MB)\r\n",
      "\u001b[2K     \u001b[90m━━━━━━━━━━━━━━━━━━━━━━━━━━━━━━━━━━━━━━━\u001b[0m \u001b[32m497.9/497.9 MB\u001b[0m \u001b[31m2.1 MB/s\u001b[0m eta \u001b[36m0:00:00\u001b[0m\r\n",
      "\u001b[?25hCollecting onnxruntime~=1.10.0\r\n",
      "  Downloading onnxruntime-1.10.0-cp37-cp37m-manylinux_2_17_x86_64.manylinux2014_x86_64.whl (4.9 MB)\r\n",
      "\u001b[2K     \u001b[90m━━━━━━━━━━━━━━━━━━━━━━━━━━━━━━━━━━━━━━━━\u001b[0m \u001b[32m4.9/4.9 MB\u001b[0m \u001b[31m65.9 MB/s\u001b[0m eta \u001b[36m0:00:00\u001b[0m\r\n",
      "\u001b[?25hCollecting tflite-runtime~=2.7.0\r\n",
      "  Downloading tflite_runtime-2.7.0-cp37-cp37m-manylinux2014_x86_64.whl (2.2 MB)\r\n",
      "\u001b[2K     \u001b[90m━━━━━━━━━━━━━━━━━━━━━━━━━━━━━━━━━━━━━━━━\u001b[0m \u001b[32m2.2/2.2 MB\u001b[0m \u001b[31m4.5 MB/s\u001b[0m eta \u001b[36m0:00:00\u001b[0m\r\n",
      "\u001b[?25hRequirement already satisfied: pyparsing>=2.2.1 in /opt/conda/lib/python3.7/site-packages (from matplotlib~=3.5.1->lobe[all]) (3.0.9)\r\n",
      "Requirement already satisfied: cycler>=0.10 in /opt/conda/lib/python3.7/site-packages (from matplotlib~=3.5.1->lobe[all]) (0.11.0)\r\n",
      "Requirement already satisfied: python-dateutil>=2.7 in /opt/conda/lib/python3.7/site-packages (from matplotlib~=3.5.1->lobe[all]) (2.8.2)\r\n",
      "Requirement already satisfied: numpy>=1.17 in /opt/conda/lib/python3.7/site-packages (from matplotlib~=3.5.1->lobe[all]) (1.21.6)\r\n",
      "Requirement already satisfied: packaging>=20.0 in /opt/conda/lib/python3.7/site-packages (from matplotlib~=3.5.1->lobe[all]) (23.0)\r\n",
      "Requirement already satisfied: fonttools>=4.22.0 in /opt/conda/lib/python3.7/site-packages (from matplotlib~=3.5.1->lobe[all]) (4.38.0)\r\n",
      "Requirement already satisfied: kiwisolver>=1.0.1 in /opt/conda/lib/python3.7/site-packages (from matplotlib~=3.5.1->lobe[all]) (1.4.4)\r\n",
      "Requirement already satisfied: flatbuffers in /opt/conda/lib/python3.7/site-packages (from onnxruntime~=1.10.0->lobe[all]) (23.1.21)\r\n",
      "Requirement already satisfied: protobuf in /opt/conda/lib/python3.7/site-packages (from onnxruntime~=1.10.0->lobe[all]) (3.20.3)\r\n",
      "Collecting keras<2.9,>=2.8.0rc0\r\n",
      "  Downloading keras-2.8.0-py2.py3-none-any.whl (1.4 MB)\r\n",
      "\u001b[2K     \u001b[90m━━━━━━━━━━━━━━━━━━━━━━━━━━━━━━━━━━━━━━━━\u001b[0m \u001b[32m1.4/1.4 MB\u001b[0m \u001b[31m53.6 MB/s\u001b[0m eta \u001b[36m0:00:00\u001b[0m\r\n",
      "\u001b[?25hRequirement already satisfied: six>=1.12.0 in /opt/conda/lib/python3.7/site-packages (from tensorflow~=2.8.0->lobe[all]) (1.16.0)\r\n",
      "Requirement already satisfied: opt-einsum>=2.3.2 in /opt/conda/lib/python3.7/site-packages (from tensorflow~=2.8.0->lobe[all]) (3.3.0)\r\n",
      "Requirement already satisfied: tensorflow-io-gcs-filesystem>=0.23.1 in /opt/conda/lib/python3.7/site-packages (from tensorflow~=2.8.0->lobe[all]) (0.29.0)\r\n",
      "Requirement already satisfied: wrapt>=1.11.0 in /opt/conda/lib/python3.7/site-packages (from tensorflow~=2.8.0->lobe[all]) (1.14.1)\r\n",
      "Requirement already satisfied: setuptools in /opt/conda/lib/python3.7/site-packages (from tensorflow~=2.8.0->lobe[all]) (59.8.0)\r\n",
      "Requirement already satisfied: libclang>=9.0.1 in /opt/conda/lib/python3.7/site-packages (from tensorflow~=2.8.0->lobe[all]) (15.0.6.1)\r\n",
      "Collecting tensorflow-estimator<2.9,>=2.8\r\n",
      "  Downloading tensorflow_estimator-2.8.0-py2.py3-none-any.whl (462 kB)\r\n",
      "\u001b[2K     \u001b[90m━━━━━━━━━━━━━━━━━━━━━━━━━━━━━━━━━━━━━━\u001b[0m \u001b[32m462.3/462.3 kB\u001b[0m \u001b[31m31.7 MB/s\u001b[0m eta \u001b[36m0:00:00\u001b[0m\r\n",
      "\u001b[?25hCollecting keras-preprocessing>=1.1.1\r\n",
      "  Downloading Keras_Preprocessing-1.1.2-py2.py3-none-any.whl (42 kB)\r\n",
      "\u001b[2K     \u001b[90m━━━━━━━━━━━━━━━━━━━━━━━━━━━━━━━━━━━━━━━━\u001b[0m \u001b[32m42.6/42.6 kB\u001b[0m \u001b[31m3.4 MB/s\u001b[0m eta \u001b[36m0:00:00\u001b[0m\r\n",
      "\u001b[?25hRequirement already satisfied: astunparse>=1.6.0 in /opt/conda/lib/python3.7/site-packages (from tensorflow~=2.8.0->lobe[all]) (1.6.3)\r\n",
      "Requirement already satisfied: absl-py>=0.4.0 in /opt/conda/lib/python3.7/site-packages (from tensorflow~=2.8.0->lobe[all]) (1.4.0)\r\n",
      "Requirement already satisfied: grpcio<2.0,>=1.24.3 in /opt/conda/lib/python3.7/site-packages (from tensorflow~=2.8.0->lobe[all]) (1.51.1)\r\n",
      "Requirement already satisfied: h5py>=2.9.0 in /opt/conda/lib/python3.7/site-packages (from tensorflow~=2.8.0->lobe[all]) (3.8.0)\r\n",
      "Requirement already satisfied: typing-extensions>=3.6.6 in /opt/conda/lib/python3.7/site-packages (from tensorflow~=2.8.0->lobe[all]) (4.4.0)\r\n",
      "Requirement already satisfied: gast>=0.2.1 in /opt/conda/lib/python3.7/site-packages (from tensorflow~=2.8.0->lobe[all]) (0.4.0)\r\n",
      "Collecting protobuf\r\n",
      "  Downloading protobuf-3.19.6-cp37-cp37m-manylinux_2_17_x86_64.manylinux2014_x86_64.whl (1.1 MB)\r\n",
      "\u001b[2K     \u001b[90m━━━━━━━━━━━━━━━━━━━━━━━━━━━━━━━━━━━━━━━━\u001b[0m \u001b[32m1.1/1.1 MB\u001b[0m \u001b[31m45.3 MB/s\u001b[0m eta \u001b[36m0:00:00\u001b[0m\r\n",
      "\u001b[?25hRequirement already satisfied: google-pasta>=0.1.1 in /opt/conda/lib/python3.7/site-packages (from tensorflow~=2.8.0->lobe[all]) (0.2.0)\r\n",
      "Requirement already satisfied: termcolor>=1.1.0 in /opt/conda/lib/python3.7/site-packages (from tensorflow~=2.8.0->lobe[all]) (2.2.0)\r\n",
      "Collecting tensorboard<2.9,>=2.8\r\n",
      "  Downloading tensorboard-2.8.0-py3-none-any.whl (5.8 MB)\r\n",
      "\u001b[2K     \u001b[90m━━━━━━━━━━━━━━━━━━━━━━━━━━━━━━━━━━━━━━━━\u001b[0m \u001b[32m5.8/5.8 MB\u001b[0m \u001b[31m65.2 MB/s\u001b[0m eta \u001b[36m0:00:00\u001b[0m\r\n",
      "\u001b[?25hRequirement already satisfied: idna<4,>=2.5 in /opt/conda/lib/python3.7/site-packages (from requests->lobe[all]) (3.4)\r\n",
      "Requirement already satisfied: charset-normalizer<4,>=2 in /opt/conda/lib/python3.7/site-packages (from requests->lobe[all]) (2.1.1)\r\n",
      "Requirement already satisfied: urllib3<1.27,>=1.21.1 in /opt/conda/lib/python3.7/site-packages (from requests->lobe[all]) (1.26.14)\r\n",
      "Requirement already satisfied: certifi>=2017.4.17 in /opt/conda/lib/python3.7/site-packages (from requests->lobe[all]) (2022.12.7)\r\n",
      "Requirement already satisfied: wheel<1.0,>=0.23.0 in /opt/conda/lib/python3.7/site-packages (from astunparse>=1.6.0->tensorflow~=2.8.0->lobe[all]) (0.38.4)\r\n",
      "Requirement already satisfied: tensorboard-plugin-wit>=1.6.0 in /opt/conda/lib/python3.7/site-packages (from tensorboard<2.9,>=2.8->tensorflow~=2.8.0->lobe[all]) (1.8.1)\r\n",
      "Requirement already satisfied: google-auth<3,>=1.6.3 in /opt/conda/lib/python3.7/site-packages (from tensorboard<2.9,>=2.8->tensorflow~=2.8.0->lobe[all]) (1.35.0)\r\n",
      "Requirement already satisfied: tensorboard-data-server<0.7.0,>=0.6.0 in /opt/conda/lib/python3.7/site-packages (from tensorboard<2.9,>=2.8->tensorflow~=2.8.0->lobe[all]) (0.6.1)\r\n",
      "Requirement already satisfied: werkzeug>=0.11.15 in /opt/conda/lib/python3.7/site-packages (from tensorboard<2.9,>=2.8->tensorflow~=2.8.0->lobe[all]) (2.2.3)\r\n",
      "Requirement already satisfied: markdown>=2.6.8 in /opt/conda/lib/python3.7/site-packages (from tensorboard<2.9,>=2.8->tensorflow~=2.8.0->lobe[all]) (3.4.1)\r\n",
      "Requirement already satisfied: google-auth-oauthlib<0.5,>=0.4.1 in /opt/conda/lib/python3.7/site-packages (from tensorboard<2.9,>=2.8->tensorflow~=2.8.0->lobe[all]) (0.4.6)\r\n",
      "Requirement already satisfied: rsa<5,>=3.1.4 in /opt/conda/lib/python3.7/site-packages (from google-auth<3,>=1.6.3->tensorboard<2.9,>=2.8->tensorflow~=2.8.0->lobe[all]) (4.9)\r\n",
      "Requirement already satisfied: cachetools<5.0,>=2.0.0 in /opt/conda/lib/python3.7/site-packages (from google-auth<3,>=1.6.3->tensorboard<2.9,>=2.8->tensorflow~=2.8.0->lobe[all]) (4.2.4)\r\n",
      "Requirement already satisfied: pyasn1-modules>=0.2.1 in /opt/conda/lib/python3.7/site-packages (from google-auth<3,>=1.6.3->tensorboard<2.9,>=2.8->tensorflow~=2.8.0->lobe[all]) (0.2.8)\r\n",
      "Requirement already satisfied: requests-oauthlib>=0.7.0 in /opt/conda/lib/python3.7/site-packages (from google-auth-oauthlib<0.5,>=0.4.1->tensorboard<2.9,>=2.8->tensorflow~=2.8.0->lobe[all]) (1.3.1)\r\n",
      "Requirement already satisfied: importlib-metadata>=4.4 in /opt/conda/lib/python3.7/site-packages (from markdown>=2.6.8->tensorboard<2.9,>=2.8->tensorflow~=2.8.0->lobe[all]) (4.11.4)\r\n",
      "Requirement already satisfied: MarkupSafe>=2.1.1 in /opt/conda/lib/python3.7/site-packages (from werkzeug>=0.11.15->tensorboard<2.9,>=2.8->tensorflow~=2.8.0->lobe[all]) (2.1.1)\r\n",
      "Requirement already satisfied: zipp>=0.5 in /opt/conda/lib/python3.7/site-packages (from importlib-metadata>=4.4->markdown>=2.6.8->tensorboard<2.9,>=2.8->tensorflow~=2.8.0->lobe[all]) (3.11.0)\r\n",
      "Requirement already satisfied: pyasn1<0.5.0,>=0.4.6 in /opt/conda/lib/python3.7/site-packages (from pyasn1-modules>=0.2.1->google-auth<3,>=1.6.3->tensorboard<2.9,>=2.8->tensorflow~=2.8.0->lobe[all]) (0.4.8)\r\n",
      "Requirement already satisfied: oauthlib>=3.0.0 in /opt/conda/lib/python3.7/site-packages (from requests-oauthlib>=0.7.0->google-auth-oauthlib<0.5,>=0.4.1->tensorboard<2.9,>=2.8->tensorflow~=2.8.0->lobe[all]) (3.2.2)\r\n",
      "Installing collected packages: tensorflow-estimator, keras, tflite-runtime, protobuf, pillow, keras-preprocessing, onnxruntime, lobe, tensorboard, tensorflow\r\n",
      "  Attempting uninstall: tensorflow-estimator\r\n",
      "    Found existing installation: tensorflow-estimator 2.11.0\r\n",
      "    Uninstalling tensorflow-estimator-2.11.0:\r\n",
      "      Successfully uninstalled tensorflow-estimator-2.11.0\r\n",
      "  Attempting uninstall: keras\r\n",
      "    Found existing installation: keras 2.11.0\r\n",
      "    Uninstalling keras-2.11.0:\r\n",
      "      Successfully uninstalled keras-2.11.0\r\n",
      "  Attempting uninstall: protobuf\r\n",
      "    Found existing installation: protobuf 3.20.3\r\n",
      "    Uninstalling protobuf-3.20.3:\r\n",
      "      Successfully uninstalled protobuf-3.20.3\r\n",
      "  Attempting uninstall: pillow\r\n",
      "    Found existing installation: Pillow 9.4.0\r\n",
      "    Uninstalling Pillow-9.4.0:\r\n",
      "      Successfully uninstalled Pillow-9.4.0\r\n",
      "  Attempting uninstall: tensorboard\r\n",
      "    Found existing installation: tensorboard 2.11.2\r\n",
      "    Uninstalling tensorboard-2.11.2:\r\n",
      "      Successfully uninstalled tensorboard-2.11.2\r\n",
      "  Attempting uninstall: tensorflow\r\n",
      "    Found existing installation: tensorflow 2.11.0\r\n",
      "    Uninstalling tensorflow-2.11.0:\r\n",
      "      Successfully uninstalled tensorflow-2.11.0\r\n",
      "\u001b[31mERROR: pip's dependency resolver does not currently take into account all the packages that are installed. This behaviour is the source of the following dependency conflicts.\r\n",
      "tfx-bsl 1.12.0 requires google-api-python-client<2,>=1.7.11, but you have google-api-python-client 2.83.0 which is incompatible.\r\n",
      "tfx-bsl 1.12.0 requires tensorflow<3,>=2.11, but you have tensorflow 2.8.4 which is incompatible.\r\n",
      "tensorflow-transform 1.12.0 requires tensorflow<2.12,>=2.11.0, but you have tensorflow 2.8.4 which is incompatible.\r\n",
      "tensorflow-text 2.11.0 requires tensorflow<2.12,>=2.11.0; platform_machine != \"arm64\" or platform_system != \"Darwin\", but you have tensorflow 2.8.4 which is incompatible.\r\n",
      "tensorflow-serving-api 2.11.0 requires tensorflow<3,>=2.11.0, but you have tensorflow 2.8.4 which is incompatible.\r\n",
      "tensorflow-decision-forests 1.2.0 requires tensorflow~=2.11.0, but you have tensorflow 2.8.4 which is incompatible.\r\n",
      "onnx 1.13.1 requires protobuf<4,>=3.20.2, but you have protobuf 3.19.6 which is incompatible.\r\n",
      "apache-beam 2.44.0 requires dill<0.3.2,>=0.3.1.1, but you have dill 0.3.6 which is incompatible.\u001b[0m\u001b[31m\r\n",
      "\u001b[0mSuccessfully installed keras-2.8.0 keras-preprocessing-1.1.2 lobe-0.6.2 onnxruntime-1.10.0 pillow-9.4.0 protobuf-3.19.6 tensorboard-2.8.0 tensorflow-2.8.4 tensorflow-estimator-2.8.0 tflite-runtime-2.7.0\r\n",
      "\u001b[33mWARNING: Running pip as the 'root' user can result in broken permissions and conflicting behaviour with the system package manager. It is recommended to use a virtual environment instead: https://pip.pypa.io/warnings/venv\u001b[0m\u001b[33m\r\n",
      "\u001b[0m"
     ]
    }
   ],
   "source": [
    "!pip install lobe[all]"
   ]
  },
  {
   "cell_type": "code",
   "execution_count": 6,
   "id": "948b0e58",
   "metadata": {
    "execution": {
     "iopub.execute_input": "2023-04-10T18:33:00.196717Z",
     "iopub.status.busy": "2023-04-10T18:33:00.196220Z",
     "iopub.status.idle": "2023-04-10T18:33:09.628772Z",
     "shell.execute_reply": "2023-04-10T18:33:09.626955Z"
    },
    "papermill": {
     "duration": 9.45651,
     "end_time": "2023-04-10T18:33:09.632061",
     "exception": false,
     "start_time": "2023-04-10T18:33:00.175551",
     "status": "completed"
    },
    "tags": []
   },
   "outputs": [
    {
     "data": {
      "text/plain": [
       "<lobe.model.image_model.ImageModel at 0x7d5a25a79290>"
      ]
     },
     "execution_count": 6,
     "metadata": {},
     "output_type": "execute_result"
    }
   ],
   "source": [
    "from lobe import ImageModel\n",
    "\n",
    "model = ImageModel.load('/kaggle/input/mobilenet-v2-dog-classification/train TensorFlow')\n",
    "model"
   ]
  },
  {
   "cell_type": "code",
   "execution_count": 7,
   "id": "a2aaeafe",
   "metadata": {
    "execution": {
     "iopub.execute_input": "2023-04-10T18:33:09.672681Z",
     "iopub.status.busy": "2023-04-10T18:33:09.672252Z",
     "iopub.status.idle": "2023-04-10T18:33:52.838559Z",
     "shell.execute_reply": "2023-04-10T18:33:52.836926Z"
    },
    "papermill": {
     "duration": 43.215234,
     "end_time": "2023-04-10T18:33:52.866162",
     "exception": false,
     "start_time": "2023-04-10T18:33:09.650928",
     "status": "completed"
    },
    "tags": []
   },
   "outputs": [
    {
     "data": {
      "text/plain": [
       "['poodle',\n",
       " 'yorkshire_terrier',\n",
       " 'yorkshire_terrier',\n",
       " 'yorkshire_terrier',\n",
       " 'golden_retriever']"
      ]
     },
     "execution_count": 7,
     "metadata": {},
     "output_type": "execute_result"
    }
   ],
   "source": [
    "result=[]\n",
    "for i in test.filename:\n",
    "    result_i= model.predict_from_file(i)\n",
    "    result.append(result_i.prediction)\n",
    "result[:5]"
   ]
  },
  {
   "cell_type": "code",
   "execution_count": 8,
   "id": "d6b492aa",
   "metadata": {
    "execution": {
     "iopub.execute_input": "2023-04-10T18:33:52.907013Z",
     "iopub.status.busy": "2023-04-10T18:33:52.906049Z",
     "iopub.status.idle": "2023-04-10T18:33:52.922680Z",
     "shell.execute_reply": "2023-04-10T18:33:52.921330Z"
    },
    "papermill": {
     "duration": 0.04181,
     "end_time": "2023-04-10T18:33:52.926364",
     "exception": false,
     "start_time": "2023-04-10T18:33:52.884554",
     "status": "completed"
    },
    "tags": []
   },
   "outputs": [
    {
     "data": {
      "text/html": [
       "<div>\n",
       "<style scoped>\n",
       "    .dataframe tbody tr th:only-of-type {\n",
       "        vertical-align: middle;\n",
       "    }\n",
       "\n",
       "    .dataframe tbody tr th {\n",
       "        vertical-align: top;\n",
       "    }\n",
       "\n",
       "    .dataframe thead th {\n",
       "        text-align: right;\n",
       "    }\n",
       "</style>\n",
       "<table border=\"1\" class=\"dataframe\">\n",
       "  <thead>\n",
       "    <tr style=\"text-align: right;\">\n",
       "      <th></th>\n",
       "      <th>filename</th>\n",
       "      <th>label</th>\n",
       "      <th>prediction</th>\n",
       "    </tr>\n",
       "  </thead>\n",
       "  <tbody>\n",
       "    <tr>\n",
       "      <th>0</th>\n",
       "      <td>/kaggle/input/dogs-breed-dataset/test/poodle/b...</td>\n",
       "      <td>poodle</td>\n",
       "      <td>poodle</td>\n",
       "    </tr>\n",
       "    <tr>\n",
       "      <th>1</th>\n",
       "      <td>/kaggle/input/dogs-breed-dataset/test/yorkshir...</td>\n",
       "      <td>yorkshire_terrier</td>\n",
       "      <td>yorkshire_terrier</td>\n",
       "    </tr>\n",
       "    <tr>\n",
       "      <th>2</th>\n",
       "      <td>/kaggle/input/dogs-breed-dataset/test/yorkshir...</td>\n",
       "      <td>yorkshire_terrier</td>\n",
       "      <td>yorkshire_terrier</td>\n",
       "    </tr>\n",
       "    <tr>\n",
       "      <th>3</th>\n",
       "      <td>/kaggle/input/dogs-breed-dataset/test/yorkshir...</td>\n",
       "      <td>yorkshire_terrier</td>\n",
       "      <td>yorkshire_terrier</td>\n",
       "    </tr>\n",
       "    <tr>\n",
       "      <th>4</th>\n",
       "      <td>/kaggle/input/dogs-breed-dataset/test/golden_r...</td>\n",
       "      <td>golden_retriever</td>\n",
       "      <td>golden_retriever</td>\n",
       "    </tr>\n",
       "  </tbody>\n",
       "</table>\n",
       "</div>"
      ],
      "text/plain": [
       "                                            filename              label  \\\n",
       "0  /kaggle/input/dogs-breed-dataset/test/poodle/b...             poodle   \n",
       "1  /kaggle/input/dogs-breed-dataset/test/yorkshir...  yorkshire_terrier   \n",
       "2  /kaggle/input/dogs-breed-dataset/test/yorkshir...  yorkshire_terrier   \n",
       "3  /kaggle/input/dogs-breed-dataset/test/yorkshir...  yorkshire_terrier   \n",
       "4  /kaggle/input/dogs-breed-dataset/test/golden_r...   golden_retriever   \n",
       "\n",
       "          prediction  \n",
       "0             poodle  \n",
       "1  yorkshire_terrier  \n",
       "2  yorkshire_terrier  \n",
       "3  yorkshire_terrier  \n",
       "4   golden_retriever  "
      ]
     },
     "execution_count": 8,
     "metadata": {},
     "output_type": "execute_result"
    }
   ],
   "source": [
    "test=test.assign(prediction=result)\n",
    "test.head()"
   ]
  },
  {
   "cell_type": "code",
   "execution_count": 9,
   "id": "fbd160e9",
   "metadata": {
    "execution": {
     "iopub.execute_input": "2023-04-10T18:33:52.966555Z",
     "iopub.status.busy": "2023-04-10T18:33:52.966033Z",
     "iopub.status.idle": "2023-04-10T18:36:12.029032Z",
     "shell.execute_reply": "2023-04-10T18:36:12.027173Z"
    },
    "papermill": {
     "duration": 139.105032,
     "end_time": "2023-04-10T18:36:12.050636",
     "exception": false,
     "start_time": "2023-04-10T18:33:52.945604",
     "status": "completed"
    },
    "tags": []
   },
   "outputs": [
    {
     "name": "stderr",
     "output_type": "stream",
     "text": [
      "/opt/conda/lib/python3.7/site-packages/PIL/TiffImagePlugin.py:822: UserWarning: Corrupt EXIF data.  Expecting to read 4 bytes but only got 0. \n",
      "  warnings.warn(str(msg))\n",
      "/opt/conda/lib/python3.7/site-packages/PIL/Image.py:997: UserWarning: Palette images with Transparency expressed in bytes should be converted to RGBA images\n",
      "  if delete_trns:\n"
     ]
    },
    {
     "data": {
      "text/plain": [
       "['poodle',\n",
       " 'french_bulldog',\n",
       " 'french_bulldog',\n",
       " 'french_bulldog',\n",
       " 'french_bulldog']"
      ]
     },
     "execution_count": 9,
     "metadata": {},
     "output_type": "execute_result"
    }
   ],
   "source": [
    "result=[]\n",
    "for i in train.filename:\n",
    "    result_i= model.predict_from_file(i)\n",
    "    result.append(result_i.prediction)\n",
    "result[:5]"
   ]
  },
  {
   "cell_type": "code",
   "execution_count": 10,
   "id": "41aedb32",
   "metadata": {
    "execution": {
     "iopub.execute_input": "2023-04-10T18:36:12.091235Z",
     "iopub.status.busy": "2023-04-10T18:36:12.090789Z",
     "iopub.status.idle": "2023-04-10T18:36:12.105802Z",
     "shell.execute_reply": "2023-04-10T18:36:12.104457Z"
    },
    "papermill": {
     "duration": 0.039128,
     "end_time": "2023-04-10T18:36:12.108801",
     "exception": false,
     "start_time": "2023-04-10T18:36:12.069673",
     "status": "completed"
    },
    "tags": []
   },
   "outputs": [
    {
     "data": {
      "text/html": [
       "<div>\n",
       "<style scoped>\n",
       "    .dataframe tbody tr th:only-of-type {\n",
       "        vertical-align: middle;\n",
       "    }\n",
       "\n",
       "    .dataframe tbody tr th {\n",
       "        vertical-align: top;\n",
       "    }\n",
       "\n",
       "    .dataframe thead th {\n",
       "        text-align: right;\n",
       "    }\n",
       "</style>\n",
       "<table border=\"1\" class=\"dataframe\">\n",
       "  <thead>\n",
       "    <tr style=\"text-align: right;\">\n",
       "      <th></th>\n",
       "      <th>filename</th>\n",
       "      <th>label</th>\n",
       "      <th>prediction</th>\n",
       "    </tr>\n",
       "  </thead>\n",
       "  <tbody>\n",
       "    <tr>\n",
       "      <th>0</th>\n",
       "      <td>/kaggle/input/dogs-breed-dataset/train/poodle/...</td>\n",
       "      <td>poodle</td>\n",
       "      <td>poodle</td>\n",
       "    </tr>\n",
       "    <tr>\n",
       "      <th>1</th>\n",
       "      <td>/kaggle/input/dogs-breed-dataset/train/french_...</td>\n",
       "      <td>french_bulldog</td>\n",
       "      <td>french_bulldog</td>\n",
       "    </tr>\n",
       "    <tr>\n",
       "      <th>2</th>\n",
       "      <td>/kaggle/input/dogs-breed-dataset/train/french_...</td>\n",
       "      <td>french_bulldog</td>\n",
       "      <td>french_bulldog</td>\n",
       "    </tr>\n",
       "    <tr>\n",
       "      <th>3</th>\n",
       "      <td>/kaggle/input/dogs-breed-dataset/train/french_...</td>\n",
       "      <td>french_bulldog</td>\n",
       "      <td>french_bulldog</td>\n",
       "    </tr>\n",
       "    <tr>\n",
       "      <th>4</th>\n",
       "      <td>/kaggle/input/dogs-breed-dataset/train/french_...</td>\n",
       "      <td>french_bulldog</td>\n",
       "      <td>french_bulldog</td>\n",
       "    </tr>\n",
       "  </tbody>\n",
       "</table>\n",
       "</div>"
      ],
      "text/plain": [
       "                                            filename           label  \\\n",
       "0  /kaggle/input/dogs-breed-dataset/train/poodle/...          poodle   \n",
       "1  /kaggle/input/dogs-breed-dataset/train/french_...  french_bulldog   \n",
       "2  /kaggle/input/dogs-breed-dataset/train/french_...  french_bulldog   \n",
       "3  /kaggle/input/dogs-breed-dataset/train/french_...  french_bulldog   \n",
       "4  /kaggle/input/dogs-breed-dataset/train/french_...  french_bulldog   \n",
       "\n",
       "       prediction  \n",
       "0          poodle  \n",
       "1  french_bulldog  \n",
       "2  french_bulldog  \n",
       "3  french_bulldog  \n",
       "4  french_bulldog  "
      ]
     },
     "execution_count": 10,
     "metadata": {},
     "output_type": "execute_result"
    }
   ],
   "source": [
    "train=train.assign(prediction=result)\n",
    "train.head()"
   ]
  },
  {
   "cell_type": "code",
   "execution_count": 11,
   "id": "335860d8",
   "metadata": {
    "execution": {
     "iopub.execute_input": "2023-04-10T18:36:12.151584Z",
     "iopub.status.busy": "2023-04-10T18:36:12.151022Z",
     "iopub.status.idle": "2023-04-10T18:36:12.995919Z",
     "shell.execute_reply": "2023-04-10T18:36:12.993875Z"
    },
    "papermill": {
     "duration": 0.869843,
     "end_time": "2023-04-10T18:36:12.999024",
     "exception": false,
     "start_time": "2023-04-10T18:36:12.129181",
     "status": "completed"
    },
    "tags": []
   },
   "outputs": [
    {
     "name": "stdout",
     "output_type": "stream",
     "text": [
      "                   precision    recall  f1-score   support\n",
      "\n",
      "   french_bulldog       1.00      1.00      1.00       163\n",
      "  german_shepherd       1.00      0.99      1.00       199\n",
      " golden_retriever       0.99      1.00      1.00       167\n",
      "           poodle       0.99      1.00      0.99       158\n",
      "yorkshire_terrier       1.00      0.99      0.99       137\n",
      "\n",
      "         accuracy                           1.00       824\n",
      "        macro avg       1.00      1.00      1.00       824\n",
      "     weighted avg       1.00      1.00      1.00       824\n",
      "\n"
     ]
    }
   ],
   "source": [
    "from sklearn.metrics import classification_report\n",
    "print(classification_report(train['label'],train['prediction']))"
   ]
  },
  {
   "cell_type": "code",
   "execution_count": 12,
   "id": "ba2ad1b9",
   "metadata": {
    "execution": {
     "iopub.execute_input": "2023-04-10T18:36:13.040593Z",
     "iopub.status.busy": "2023-04-10T18:36:13.039617Z",
     "iopub.status.idle": "2023-04-10T18:36:13.059886Z",
     "shell.execute_reply": "2023-04-10T18:36:13.057780Z"
    },
    "papermill": {
     "duration": 0.044296,
     "end_time": "2023-04-10T18:36:13.062897",
     "exception": false,
     "start_time": "2023-04-10T18:36:13.018601",
     "status": "completed"
    },
    "tags": []
   },
   "outputs": [
    {
     "name": "stdout",
     "output_type": "stream",
     "text": [
      "                   precision    recall  f1-score   support\n",
      "\n",
      "   french_bulldog       1.00      1.00      1.00        45\n",
      "  german_shepherd       1.00      1.00      1.00        48\n",
      " golden_retriever       1.00      1.00      1.00        46\n",
      "           poodle       1.00      1.00      1.00        24\n",
      "yorkshire_terrier       1.00      1.00      1.00        43\n",
      "\n",
      "         accuracy                           1.00       206\n",
      "        macro avg       1.00      1.00      1.00       206\n",
      "     weighted avg       1.00      1.00      1.00       206\n",
      "\n"
     ]
    }
   ],
   "source": [
    "print(classification_report(test['label'],test['prediction']))"
   ]
  }
 ],
 "metadata": {
  "kernelspec": {
   "display_name": "Python 3",
   "language": "python",
   "name": "python3"
  },
  "language_info": {
   "codemirror_mode": {
    "name": "ipython",
    "version": 3
   },
   "file_extension": ".py",
   "mimetype": "text/x-python",
   "name": "python",
   "nbconvert_exporter": "python",
   "pygments_lexer": "ipython3",
   "version": "3.7.12"
  },
  "papermill": {
   "default_parameters": {},
   "duration": 304.029967,
   "end_time": "2023-04-10T18:36:16.252021",
   "environment_variables": {},
   "exception": null,
   "input_path": "__notebook__.ipynb",
   "output_path": "__notebook__.ipynb",
   "parameters": {},
   "start_time": "2023-04-10T18:31:12.222054",
   "version": "2.4.0"
  }
 },
 "nbformat": 4,
 "nbformat_minor": 5
}
