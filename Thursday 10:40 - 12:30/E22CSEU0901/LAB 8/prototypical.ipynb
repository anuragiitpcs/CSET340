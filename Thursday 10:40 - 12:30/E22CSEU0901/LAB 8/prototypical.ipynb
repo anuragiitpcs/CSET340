{
 "cells": [
  {
   "cell_type": "code",
   "execution_count": 1,
   "metadata": {},
   "outputs": [
    {
     "name": "stdout",
     "output_type": "stream",
     "text": [
      "Prototypical Network Results:\n",
      "              precision    recall  f1-score   support\n",
      "\n",
      "           0       0.80      0.80      0.80        10\n",
      "           1       0.80      0.80      0.80        10\n",
      "           2       0.89      0.80      0.84        10\n",
      "           3       0.83      1.00      0.91        10\n",
      "           4       1.00      0.90      0.95        10\n",
      "\n",
      "    accuracy                           0.86        50\n",
      "   macro avg       0.86      0.86      0.86        50\n",
      "weighted avg       0.86      0.86      0.86        50\n",
      "\n"
     ]
    }
   ],
   "source": [
    "import numpy as np\n",
    "import tensorflow as tf\n",
    "from sklearn.metrics import classification_report\n",
    "\n",
    "# Load MNIST dataset\n",
    "(x_train, y_train), (x_test, y_test) = tf.keras.datasets.mnist.load_data()\n",
    "x_train, x_test = x_train / 255.0, x_test / 255.0  # Normalize to [0,1]\n",
    "\n",
    "# Reshape to (28,28,1)\n",
    "x_train = np.expand_dims(x_train, axis=-1)\n",
    "x_test = np.expand_dims(x_test, axis=-1)\n",
    "\n",
    "# Group images by class\n",
    "num_classes = 10\n",
    "train_classes = {i: x_train[y_train == i] for i in range(num_classes)}\n",
    "test_classes = {i: x_test[y_test == i] for i in range(num_classes)}\n",
    "\n",
    "# Sample few-shot episode\n",
    "def sample_episode(classes, n_classes=5, k_shot=5, q_query=10):\n",
    "    selected_classes = np.random.choice(list(classes.keys()), n_classes, replace=False)\n",
    "    support_set, query_set, labels = [], [], []\n",
    "    \n",
    "    for label, cls in enumerate(selected_classes):\n",
    "        samples = np.random.choice(len(classes[cls]), k_shot + q_query, replace=False)\n",
    "        support, query = samples[:k_shot], samples[k_shot:]\n",
    "        support_set.append(classes[cls][support])\n",
    "        query_set.append(classes[cls][query])\n",
    "        labels.append([label] * q_query)\n",
    "\n",
    "    support_set = np.array(support_set)  # Shape: (N, k, 28, 28, 1)\n",
    "    query_set = np.array(query_set)      # Shape: (N, q, 28, 28, 1)\n",
    "    labels = np.array(labels).flatten()  # Shape: (N * q,)\n",
    "\n",
    "    return support_set, query_set, labels\n",
    "\n",
    "# Compute class prototypes (mean embedding)\n",
    "def compute_prototypes(support_set):\n",
    "    return np.mean(support_set, axis=1)  # Shape: (N, 28, 28, 1)\n",
    "\n",
    "# Classify query samples based on Euclidean distance\n",
    "def classify_query(query_set, prototypes):\n",
    "    N, Q, H, W, C = query_set.shape  # N = num classes, Q = query samples/class\n",
    "\n",
    "    # Reshape for broadcasting\n",
    "    query_set = query_set.reshape(N * Q, H * W * C)  # (N*Q, 28*28*1)\n",
    "    prototypes = prototypes.reshape(N, H * W * C)    # (N, 28*28*1)\n",
    "\n",
    "    # Compute Euclidean distances\n",
    "    distances = np.linalg.norm(query_set[:, np.newaxis, :] - prototypes, axis=2)  # (N*Q, N)\n",
    "    \n",
    "    return np.argmin(distances, axis=1)  # (N*Q,)\n",
    "\n",
    "# Sample an episode\n",
    "support, query, true_labels = sample_episode(train_classes)\n",
    "\n",
    "# Compute prototypes & classify\n",
    "prototypes = compute_prototypes(support)\n",
    "pred_labels = classify_query(query, prototypes)\n",
    "\n",
    "# Evaluate performance\n",
    "print(\"Prototypical Network Results:\")\n",
    "print(classification_report(true_labels, pred_labels))\n"
   ]
  },
  {
   "cell_type": "code",
   "execution_count": null,
   "metadata": {},
   "outputs": [],
   "source": []
  }
 ],
 "metadata": {
  "kernelspec": {
   "display_name": "Python 3",
   "language": "python",
   "name": "python3"
  },
  "language_info": {
   "codemirror_mode": {
    "name": "ipython",
    "version": 3
   },
   "file_extension": ".py",
   "mimetype": "text/x-python",
   "name": "python",
   "nbconvert_exporter": "python",
   "pygments_lexer": "ipython3",
   "version": "3.12.4"
  }
 },
 "nbformat": 4,
 "nbformat_minor": 2
}
