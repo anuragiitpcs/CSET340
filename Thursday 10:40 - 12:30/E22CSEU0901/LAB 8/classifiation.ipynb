{
 "cells": [
  {
   "cell_type": "code",
   "execution_count": 1,
   "metadata": {},
   "outputs": [
    {
     "name": "stdout",
     "output_type": "stream",
     "text": [
      "Requirement already satisfied: torch in c:\\users\\anand\\appdata\\local\\programs\\python\\python312\\lib\\site-packages (2.6.0+cpu)\n",
      "Requirement already satisfied: torchvision in c:\\users\\anand\\appdata\\local\\programs\\python\\python312\\lib\\site-packages (0.21.0+cpu)\n",
      "Requirement already satisfied: matplotlib in c:\\users\\anand\\appdata\\local\\programs\\python\\python312\\lib\\site-packages (3.9.1)\n",
      "Requirement already satisfied: filelock in c:\\users\\anand\\appdata\\local\\programs\\python\\python312\\lib\\site-packages (from torch) (3.16.0)\n",
      "Requirement already satisfied: typing-extensions>=4.10.0 in c:\\users\\anand\\appdata\\local\\programs\\python\\python312\\lib\\site-packages (from torch) (4.12.2)\n",
      "Requirement already satisfied: networkx in c:\\users\\anand\\appdata\\local\\programs\\python\\python312\\lib\\site-packages (from torch) (3.3)\n",
      "Requirement already satisfied: jinja2 in c:\\users\\anand\\appdata\\local\\programs\\python\\python312\\lib\\site-packages (from torch) (3.1.4)\n",
      "Requirement already satisfied: fsspec in c:\\users\\anand\\appdata\\local\\programs\\python\\python312\\lib\\site-packages (from torch) (2024.6.1)\n",
      "Requirement already satisfied: setuptools in c:\\users\\anand\\appdata\\local\\programs\\python\\python312\\lib\\site-packages (from torch) (70.0.0)\n",
      "Requirement already satisfied: sympy==1.13.1 in c:\\users\\anand\\appdata\\local\\programs\\python\\python312\\lib\\site-packages (from torch) (1.13.1)\n",
      "Requirement already satisfied: mpmath<1.4,>=1.1.0 in c:\\users\\anand\\appdata\\local\\programs\\python\\python312\\lib\\site-packages (from sympy==1.13.1->torch) (1.3.0)\n",
      "Requirement already satisfied: numpy in c:\\users\\anand\\appdata\\local\\programs\\python\\python312\\lib\\site-packages (from torchvision) (1.26.4)\n",
      "Requirement already satisfied: pillow!=8.3.*,>=5.3.0 in c:\\users\\anand\\appdata\\local\\programs\\python\\python312\\lib\\site-packages (from torchvision) (10.4.0)\n",
      "Requirement already satisfied: contourpy>=1.0.1 in c:\\users\\anand\\appdata\\local\\programs\\python\\python312\\lib\\site-packages (from matplotlib) (1.2.1)\n",
      "Requirement already satisfied: cycler>=0.10 in c:\\users\\anand\\appdata\\local\\programs\\python\\python312\\lib\\site-packages (from matplotlib) (0.12.1)\n",
      "Requirement already satisfied: fonttools>=4.22.0 in c:\\users\\anand\\appdata\\local\\programs\\python\\python312\\lib\\site-packages (from matplotlib) (4.53.1)\n",
      "Requirement already satisfied: kiwisolver>=1.3.1 in c:\\users\\anand\\appdata\\local\\programs\\python\\python312\\lib\\site-packages (from matplotlib) (1.4.5)\n",
      "Requirement already satisfied: packaging>=20.0 in c:\\users\\anand\\appdata\\local\\programs\\python\\python312\\lib\\site-packages (from matplotlib) (24.1)\n",
      "Requirement already satisfied: pyparsing>=2.3.1 in c:\\users\\anand\\appdata\\local\\programs\\python\\python312\\lib\\site-packages (from matplotlib) (3.1.2)\n",
      "Requirement already satisfied: python-dateutil>=2.7 in c:\\users\\anand\\appdata\\local\\programs\\python\\python312\\lib\\site-packages (from matplotlib) (2.9.0.post0)\n",
      "Requirement already satisfied: six>=1.5 in c:\\users\\anand\\appdata\\local\\programs\\python\\python312\\lib\\site-packages (from python-dateutil>=2.7->matplotlib) (1.16.0)\n",
      "Requirement already satisfied: MarkupSafe>=2.0 in c:\\users\\anand\\appdata\\local\\programs\\python\\python312\\lib\\site-packages (from jinja2->torch) (2.1.5)\n"
     ]
    }
   ],
   "source": [
    "!pip install torch torchvision matplotlib\n"
   ]
  },
  {
   "cell_type": "code",
   "execution_count": 2,
   "metadata": {},
   "outputs": [
    {
     "name": "stderr",
     "output_type": "stream",
     "text": [
      "100%|██████████| 169M/169M [00:23<00:00, 7.08MB/s] \n"
     ]
    }
   ],
   "source": [
    "import torch\n",
    "import torchvision\n",
    "import torchvision.transforms as transforms\n",
    "from torch.utils.data import Subset\n",
    "import numpy as np\n",
    "\n",
    "# Define transforms (basic normalization, no heavy augmentations)\n",
    "transform = transforms.Compose([\n",
    "    transforms.ToTensor(),\n",
    "    transforms.Normalize((0.5, 0.5, 0.5), (0.5, 0.5, 0.5))\n",
    "])\n",
    "\n",
    "# Load CIFAR-100 dataset\n",
    "full_trainset = torchvision.datasets.CIFAR100(root='./data', train=True, download=True, transform=transform)\n",
    "full_testset = torchvision.datasets.CIFAR100(root='./data', train=False, download=True, transform=transform)\n",
    "\n",
    "# Reduce dataset to 10,000 training samples (out of 50,000)\n",
    "np.random.seed(42)  # For reproducibility\n",
    "subset_indices = np.random.choice(len(full_trainset), 10000, replace=False)  \n",
    "trainset = Subset(full_trainset, subset_indices)\n",
    "\n",
    "# Reduce test set to 2,000 samples (from 10,000)\n",
    "test_indices = np.random.choice(len(full_testset), 2000, replace=False)  \n",
    "testset = Subset(full_testset, test_indices)\n",
    "\n",
    "# Create DataLoaders (smaller batch size for CPU)\n",
    "batch_size = 64\n",
    "trainloader = torch.utils.data.DataLoader(trainset, batch_size=batch_size, shuffle=True, num_workers=2)\n",
    "testloader = torch.utils.data.DataLoader(testset, batch_size=batch_size, shuffle=False, num_workers=2)\n"
   ]
  },
  {
   "cell_type": "code",
   "execution_count": 3,
   "metadata": {},
   "outputs": [
    {
     "name": "stderr",
     "output_type": "stream",
     "text": [
      "Downloading: \"https://download.pytorch.org/models/resnet18-f37072fd.pth\" to C:\\Users\\anand/.cache\\torch\\hub\\checkpoints\\resnet18-f37072fd.pth\n",
      "100%|██████████| 44.7M/44.7M [00:01<00:00, 25.2MB/s]\n",
      "Downloading: \"https://download.pytorch.org/models/resnet34-b627a593.pth\" to C:\\Users\\anand/.cache\\torch\\hub\\checkpoints\\resnet34-b627a593.pth\n",
      "100%|██████████| 83.3M/83.3M [00:03<00:00, 23.8MB/s]\n"
     ]
    }
   ],
   "source": [
    "import torchvision.models as models\n",
    "import torch.nn as nn\n",
    "import torch.optim as optim\n",
    "\n",
    "# Load ResNet models (modify output layer for 100 classes)\n",
    "def get_model(model_name):\n",
    "    if model_name == \"resnet18\":\n",
    "        model = models.resnet18(weights=\"IMAGENET1K_V1\")\n",
    "    elif model_name == \"resnet34\":\n",
    "        model = models.resnet34(weights=\"IMAGENET1K_V1\")\n",
    "    \n",
    "    model.fc = nn.Linear(model.fc.in_features, 100)  # Change output layer for CIFAR-100\n",
    "    return model.to(\"cpu\")  # Ensure model runs on CPU\n",
    "\n",
    "model_18 = get_model(\"resnet18\")\n",
    "model_34 = get_model(\"resnet34\")\n"
   ]
  },
  {
   "cell_type": "code",
   "execution_count": 4,
   "metadata": {},
   "outputs": [
    {
     "name": "stdout",
     "output_type": "stream",
     "text": [
      "Training ResNet-18...\n",
      "Epoch 1, Loss: 3.6779, Accuracy: 15.60%, Time: 55.78s\n",
      "Epoch 2, Loss: 2.7921, Accuracy: 28.45%, Time: 54.77s\n",
      "Epoch 3, Loss: 2.3021, Accuracy: 38.60%, Time: 55.12s\n",
      "Epoch 4, Loss: 1.9155, Accuracy: 47.88%, Time: 54.83s\n",
      "Epoch 5, Loss: 1.5856, Accuracy: 55.08%, Time: 55.38s\n",
      "\n",
      "Training ResNet-34...\n",
      "Epoch 1, Loss: 3.9051, Accuracy: 11.35%, Time: 96.00s\n",
      "Epoch 2, Loss: 2.9520, Accuracy: 25.51%, Time: 95.66s\n",
      "Epoch 3, Loss: 2.3940, Accuracy: 37.08%, Time: 95.58s\n",
      "Epoch 4, Loss: 1.9888, Accuracy: 46.27%, Time: 95.71s\n",
      "Epoch 5, Loss: 1.6698, Accuracy: 53.31%, Time: 95.69s\n"
     ]
    }
   ],
   "source": [
    "import time\n",
    "\n",
    "def train_model(model, trainloader, criterion, optimizer, num_epochs=5):\n",
    "    model.train()\n",
    "    \n",
    "    for epoch in range(num_epochs):\n",
    "        start_time = time.time()\n",
    "        running_loss = 0.0\n",
    "        correct = 0\n",
    "        total = 0\n",
    "\n",
    "        for inputs, labels in trainloader:\n",
    "            optimizer.zero_grad()\n",
    "            outputs = model(inputs)\n",
    "            loss = criterion(outputs, labels)\n",
    "            loss.backward()\n",
    "            optimizer.step()\n",
    "\n",
    "            running_loss += loss.item()\n",
    "            _, predicted = outputs.max(1)\n",
    "            correct += predicted.eq(labels).sum().item()\n",
    "            total += labels.size(0)\n",
    "\n",
    "        epoch_time = time.time() - start_time\n",
    "        print(f\"Epoch {epoch+1}, Loss: {running_loss/len(trainloader):.4f}, \"\n",
    "              f\"Accuracy: {100 * correct/total:.2f}%, Time: {epoch_time:.2f}s\")\n",
    "\n",
    "# Define Loss and Optimizer\n",
    "criterion = nn.CrossEntropyLoss()\n",
    "\n",
    "optimizer_18 = optim.Adam(model_18.parameters(), lr=0.001)\n",
    "optimizer_34 = optim.Adam(model_34.parameters(), lr=0.001)\n",
    "\n",
    "# Train ResNet-18\n",
    "print(\"Training ResNet-18...\")\n",
    "train_model(model_18, trainloader, criterion, optimizer_18, num_epochs=5)\n",
    "\n",
    "# Train ResNet-34\n",
    "print(\"\\nTraining ResNet-34...\")\n",
    "train_model(model_34, trainloader, criterion, optimizer_34, num_epochs=5)\n"
   ]
  },
  {
   "cell_type": "code",
   "execution_count": 5,
   "metadata": {},
   "outputs": [
    {
     "name": "stdout",
     "output_type": "stream",
     "text": [
      "ResNet-18 - Accuracy: 34.15%, Loss: 2.8005, Inference Time: 7.74s\n",
      "ResNet-34 - Accuracy: 37.35%, Loss: 2.8934, Inference Time: 8.27s\n"
     ]
    }
   ],
   "source": [
    "def evaluate_model(model, testloader):\n",
    "    model.eval()\n",
    "    correct = 0\n",
    "    total = 0\n",
    "    test_loss = 0.0\n",
    "    start_time = time.time()\n",
    "\n",
    "    with torch.no_grad():\n",
    "        for inputs, labels in testloader:\n",
    "            outputs = model(inputs)\n",
    "            loss = criterion(outputs, labels)\n",
    "            test_loss += loss.item()\n",
    "            \n",
    "            _, predicted = outputs.max(1)\n",
    "            correct += predicted.eq(labels).sum().item()\n",
    "            total += labels.size(0)\n",
    "\n",
    "    inference_time = time.time() - start_time\n",
    "    accuracy = 100 * correct / total\n",
    "    avg_loss = test_loss / len(testloader)\n",
    "    \n",
    "    return accuracy, avg_loss, inference_time\n",
    "\n",
    "# Evaluate ResNet-18\n",
    "acc_18, loss_18, time_18 = evaluate_model(model_18, testloader)\n",
    "print(f\"ResNet-18 - Accuracy: {acc_18:.2f}%, Loss: {loss_18:.4f}, Inference Time: {time_18:.2f}s\")\n",
    "\n",
    "# Evaluate ResNet-34\n",
    "acc_34, loss_34, time_34 = evaluate_model(model_34, testloader)\n",
    "print(f\"ResNet-34 - Accuracy: {acc_34:.2f}%, Loss: {loss_34:.4f}, Inference Time: {time_34:.2f}s\")\n"
   ]
  },
  {
   "cell_type": "code",
   "execution_count": null,
   "metadata": {},
   "outputs": [],
   "source": []
  }
 ],
 "metadata": {
  "kernelspec": {
   "display_name": "Python 3",
   "language": "python",
   "name": "python3"
  },
  "language_info": {
   "codemirror_mode": {
    "name": "ipython",
    "version": 3
   },
   "file_extension": ".py",
   "mimetype": "text/x-python",
   "name": "python",
   "nbconvert_exporter": "python",
   "pygments_lexer": "ipython3",
   "version": "3.12.4"
  }
 },
 "nbformat": 4,
 "nbformat_minor": 2
}
