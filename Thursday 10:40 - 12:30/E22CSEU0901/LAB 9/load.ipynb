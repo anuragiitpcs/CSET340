{
 "cells": [
  {
   "cell_type": "code",
   "execution_count": 1,
   "id": "471c974d",
   "metadata": {},
   "outputs": [],
   "source": [
    "# 🐍 SECTION 1: Imports and Setup\n",
    "import tensorflow as tf\n",
    "from tensorflow.keras.applications import MobileNet, MobileNetV2, MobileNetV3Large\n",
    "from tensorflow.keras.models import Model\n",
    "from tensorflow.keras.layers import GlobalAveragePooling2D, Dense, Dropout\n",
    "from tensorflow.keras.preprocessing.image import ImageDataGenerator\n",
    "import pandas as pd\n",
    "import matplotlib.pyplot as plt\n",
    "\n",
    "# Constants\n",
    "IMAGE_SIZE = (224, 224)\n",
    "BATCH_SIZE = 32\n",
    "NUM_CLASSES = 5  # 5 dog breeds\n",
    "TEST_CSV = \"test_labels.csv\"\n",
    "TEST_DIR = \"test/\"\n"
   ]
  },
  {
   "cell_type": "code",
   "execution_count": 6,
   "id": "aeacbc61",
   "metadata": {},
   "outputs": [
    {
     "name": "stdout",
     "output_type": "stream",
     "text": [
      "Found 206 validated image filenames belonging to 5 classes.\n"
     ]
    }
   ],
   "source": [
    "# 📂 SECTION 2: Load Test Data\n",
    "test_df = pd.read_csv(\"test.csv\")\n",
    "test_df['label'] = test_df['label'].astype(str)  # Ensure labels are string\n",
    "\n",
    "test_gen = ImageDataGenerator(rescale=1./255)\n",
    "\n",
    "test_data = test_gen.flow_from_dataframe(\n",
    "    dataframe=test_df,\n",
    "    directory=TEST_DIR,\n",
    "    x_col=\"filename\",\n",
    "    y_col=\"label\",\n",
    "    target_size=IMAGE_SIZE,\n",
    "    class_mode=\"categorical\",\n",
    "    shuffle=False,\n",
    "    batch_size=1\n",
    ")\n"
   ]
  },
  {
   "cell_type": "code",
   "execution_count": 7,
   "id": "f767d3dd",
   "metadata": {},
   "outputs": [],
   "source": [
    "# 🧠 SECTION 3: Load Model With Custom Head (Frozen Base)\n",
    "def load_mobilenet_variant(base_model_class, name):\n",
    "    base_model = base_model_class(\n",
    "        input_shape=(224, 224, 3),\n",
    "        weights='imagenet',\n",
    "        include_top=False\n",
    "    )\n",
    "    base_model.trainable = False  # Freeze backbone\n",
    "\n",
    "    x = GlobalAveragePooling2D()(base_model.output)\n",
    "    x = Dropout(0.3)(x)\n",
    "    output = Dense(NUM_CLASSES, activation='softmax')(x)\n",
    "\n",
    "    model = Model(inputs=base_model.input, outputs=output, name=name)\n",
    "    model.compile(optimizer='adam', loss='categorical_crossentropy', metrics=['accuracy'])\n",
    "    return model\n"
   ]
  },
  {
   "cell_type": "code",
   "execution_count": 8,
   "id": "7e64b67f",
   "metadata": {},
   "outputs": [
    {
     "name": "stdout",
     "output_type": "stream",
     "text": [
      "\n",
      "🔍 Evaluating MobileNetV1 ...\n"
     ]
    },
    {
     "name": "stderr",
     "output_type": "stream",
     "text": [
      "c:\\Users\\anand\\AppData\\Local\\Programs\\Python\\Python312\\Lib\\site-packages\\keras\\src\\trainers\\data_adapters\\py_dataset_adapter.py:121: UserWarning: Your `PyDataset` class should call `super().__init__(**kwargs)` in its constructor. `**kwargs` can include `workers`, `use_multiprocessing`, `max_queue_size`. Do not pass these arguments to `fit()`, as they will be ignored.\n",
      "  self._warn_if_super_not_called()\n"
     ]
    },
    {
     "name": "stdout",
     "output_type": "stream",
     "text": [
      "\u001b[1m206/206\u001b[0m \u001b[32m━━━━━━━━━━━━━━━━━━━━\u001b[0m\u001b[37m\u001b[0m \u001b[1m6s\u001b[0m 26ms/step - accuracy: 0.3245 - loss: 1.9897\n",
      "\n",
      "🔍 Evaluating MobileNetV2 ...\n",
      "\u001b[1m206/206\u001b[0m \u001b[32m━━━━━━━━━━━━━━━━━━━━\u001b[0m\u001b[37m\u001b[0m \u001b[1m7s\u001b[0m 24ms/step - accuracy: 0.2694 - loss: 1.9231\n",
      "\n",
      "🔍 Evaluating MobileNetV3 ...\n",
      "\u001b[1m206/206\u001b[0m \u001b[32m━━━━━━━━━━━━━━━━━━━━\u001b[0m\u001b[37m\u001b[0m \u001b[1m7s\u001b[0m 24ms/step - accuracy: 0.1890 - loss: 1.6515\n"
     ]
    }
   ],
   "source": [
    "# 🧪 SECTION 4: Evaluate All MobileNet Variants (No Training)\n",
    "mobilenets = {\n",
    "    \"MobileNetV1\": MobileNet,\n",
    "    \"MobileNetV2\": MobileNetV2,\n",
    "    \"MobileNetV3\": MobileNetV3Large\n",
    "}\n",
    "\n",
    "results = {}\n",
    "\n",
    "for name, model_class in mobilenets.items():\n",
    "    print(f\"\\n🔍 Evaluating {name} ...\")\n",
    "    model = load_mobilenet_variant(model_class, name)\n",
    "    loss, acc = model.evaluate(test_data, verbose=1)\n",
    "    results[name] = acc\n"
   ]
  },
  {
   "cell_type": "code",
   "execution_count": 9,
   "id": "c7437176",
   "metadata": {},
   "outputs": [
    {
     "name": "stdout",
     "output_type": "stream",
     "text": [
      "\n",
      "📈 Test Accuracy Comparison (Random Head, No Training):\n",
      "MobileNetV1: 0.2864\n",
      "MobileNetV2: 0.2184\n",
      "MobileNetV3: 0.2233\n"
     ]
    }
   ],
   "source": [
    "# 📊 SECTION 5: Display Results\n",
    "print(\"\\n📈 Test Accuracy Comparison (Random Head, No Training):\")\n",
    "for name, acc in results.items():\n",
    "    print(f\"{name}: {acc:.4f}\")\n"
   ]
  },
  {
   "cell_type": "code",
   "execution_count": null,
   "id": "dad0d589",
   "metadata": {},
   "outputs": [],
   "source": []
  }
 ],
 "metadata": {
  "kernelspec": {
   "display_name": "Python 3",
   "language": "python",
   "name": "python3"
  },
  "language_info": {
   "codemirror_mode": {
    "name": "ipython",
    "version": 3
   },
   "file_extension": ".py",
   "mimetype": "text/x-python",
   "name": "python",
   "nbconvert_exporter": "python",
   "pygments_lexer": "ipython3",
   "version": "3.12.4"
  }
 },
 "nbformat": 4,
 "nbformat_minor": 5
}
